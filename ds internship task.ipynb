{
 "cells": [
  {
   "cell_type": "code",
   "execution_count": 1,
   "id": "4510933b",
   "metadata": {},
   "outputs": [],
   "source": [
    "#Programmer name:Prashant Kulkarni\n",
    "#College: Keystone School Of Engineering\n",
    "#Class: TE (A)\n",
    "#Roll No: 39\n",
    "#assigned task number '8'"
   ]
  },
  {
   "cell_type": "code",
   "execution_count": 2,
   "id": "2993dc3c",
   "metadata": {},
   "outputs": [],
   "source": [
    "import pandas as pd\n",
    "import numpy as np\n"
   ]
  },
  {
   "cell_type": "code",
   "execution_count": 3,
   "id": "3bb9522e",
   "metadata": {},
   "outputs": [],
   "source": [
    "df=pd.read_csv('tips.csv')"
   ]
  },
  {
   "cell_type": "code",
   "execution_count": 4,
   "id": "36536206",
   "metadata": {},
   "outputs": [
    {
     "data": {
      "text/html": [
       "<div>\n",
       "<style scoped>\n",
       "    .dataframe tbody tr th:only-of-type {\n",
       "        vertical-align: middle;\n",
       "    }\n",
       "\n",
       "    .dataframe tbody tr th {\n",
       "        vertical-align: top;\n",
       "    }\n",
       "\n",
       "    .dataframe thead th {\n",
       "        text-align: right;\n",
       "    }\n",
       "</style>\n",
       "<table border=\"1\" class=\"dataframe\">\n",
       "  <thead>\n",
       "    <tr style=\"text-align: right;\">\n",
       "      <th></th>\n",
       "      <th>total_bill</th>\n",
       "      <th>tip</th>\n",
       "      <th>sex</th>\n",
       "      <th>smoker</th>\n",
       "      <th>day</th>\n",
       "      <th>time</th>\n",
       "      <th>size</th>\n",
       "    </tr>\n",
       "  </thead>\n",
       "  <tbody>\n",
       "    <tr>\n",
       "      <th>0</th>\n",
       "      <td>16.99</td>\n",
       "      <td>1.01</td>\n",
       "      <td>Female</td>\n",
       "      <td>No</td>\n",
       "      <td>Sun</td>\n",
       "      <td>Dinner</td>\n",
       "      <td>2</td>\n",
       "    </tr>\n",
       "    <tr>\n",
       "      <th>1</th>\n",
       "      <td>10.34</td>\n",
       "      <td>1.66</td>\n",
       "      <td>Male</td>\n",
       "      <td>No</td>\n",
       "      <td>Sun</td>\n",
       "      <td>Dinner</td>\n",
       "      <td>3</td>\n",
       "    </tr>\n",
       "    <tr>\n",
       "      <th>2</th>\n",
       "      <td>21.01</td>\n",
       "      <td>3.50</td>\n",
       "      <td>Male</td>\n",
       "      <td>No</td>\n",
       "      <td>Sun</td>\n",
       "      <td>Dinner</td>\n",
       "      <td>3</td>\n",
       "    </tr>\n",
       "    <tr>\n",
       "      <th>3</th>\n",
       "      <td>23.68</td>\n",
       "      <td>3.31</td>\n",
       "      <td>Male</td>\n",
       "      <td>No</td>\n",
       "      <td>Sun</td>\n",
       "      <td>Dinner</td>\n",
       "      <td>2</td>\n",
       "    </tr>\n",
       "    <tr>\n",
       "      <th>4</th>\n",
       "      <td>24.59</td>\n",
       "      <td>3.61</td>\n",
       "      <td>Female</td>\n",
       "      <td>No</td>\n",
       "      <td>Sun</td>\n",
       "      <td>Dinner</td>\n",
       "      <td>4</td>\n",
       "    </tr>\n",
       "    <tr>\n",
       "      <th>...</th>\n",
       "      <td>...</td>\n",
       "      <td>...</td>\n",
       "      <td>...</td>\n",
       "      <td>...</td>\n",
       "      <td>...</td>\n",
       "      <td>...</td>\n",
       "      <td>...</td>\n",
       "    </tr>\n",
       "    <tr>\n",
       "      <th>239</th>\n",
       "      <td>29.03</td>\n",
       "      <td>5.92</td>\n",
       "      <td>Male</td>\n",
       "      <td>No</td>\n",
       "      <td>Sat</td>\n",
       "      <td>Dinner</td>\n",
       "      <td>3</td>\n",
       "    </tr>\n",
       "    <tr>\n",
       "      <th>240</th>\n",
       "      <td>27.18</td>\n",
       "      <td>2.00</td>\n",
       "      <td>Female</td>\n",
       "      <td>Yes</td>\n",
       "      <td>Sat</td>\n",
       "      <td>Dinner</td>\n",
       "      <td>2</td>\n",
       "    </tr>\n",
       "    <tr>\n",
       "      <th>241</th>\n",
       "      <td>22.67</td>\n",
       "      <td>2.00</td>\n",
       "      <td>Male</td>\n",
       "      <td>Yes</td>\n",
       "      <td>Sat</td>\n",
       "      <td>Dinner</td>\n",
       "      <td>2</td>\n",
       "    </tr>\n",
       "    <tr>\n",
       "      <th>242</th>\n",
       "      <td>17.82</td>\n",
       "      <td>1.75</td>\n",
       "      <td>Male</td>\n",
       "      <td>No</td>\n",
       "      <td>Sat</td>\n",
       "      <td>Dinner</td>\n",
       "      <td>2</td>\n",
       "    </tr>\n",
       "    <tr>\n",
       "      <th>243</th>\n",
       "      <td>18.78</td>\n",
       "      <td>3.00</td>\n",
       "      <td>Female</td>\n",
       "      <td>No</td>\n",
       "      <td>Thur</td>\n",
       "      <td>Dinner</td>\n",
       "      <td>2</td>\n",
       "    </tr>\n",
       "  </tbody>\n",
       "</table>\n",
       "<p>244 rows × 7 columns</p>\n",
       "</div>"
      ],
      "text/plain": [
       "     total_bill   tip     sex smoker   day    time  size\n",
       "0         16.99  1.01  Female     No   Sun  Dinner     2\n",
       "1         10.34  1.66    Male     No   Sun  Dinner     3\n",
       "2         21.01  3.50    Male     No   Sun  Dinner     3\n",
       "3         23.68  3.31    Male     No   Sun  Dinner     2\n",
       "4         24.59  3.61  Female     No   Sun  Dinner     4\n",
       "..          ...   ...     ...    ...   ...     ...   ...\n",
       "239       29.03  5.92    Male     No   Sat  Dinner     3\n",
       "240       27.18  2.00  Female    Yes   Sat  Dinner     2\n",
       "241       22.67  2.00    Male    Yes   Sat  Dinner     2\n",
       "242       17.82  1.75    Male     No   Sat  Dinner     2\n",
       "243       18.78  3.00  Female     No  Thur  Dinner     2\n",
       "\n",
       "[244 rows x 7 columns]"
      ]
     },
     "execution_count": 4,
     "metadata": {},
     "output_type": "execute_result"
    }
   ],
   "source": [
    "df"
   ]
  },
  {
   "cell_type": "markdown",
   "id": "0427b7e7",
   "metadata": {},
   "source": [
    " 1)Print the total number of entries in the dataset"
   ]
  },
  {
   "cell_type": "code",
   "execution_count": 10,
   "id": "7fde85fc",
   "metadata": {},
   "outputs": [
    {
     "name": "stdout",
     "output_type": "stream",
     "text": [
      "244\n"
     ]
    }
   ],
   "source": [
    "print(len(df))\n"
   ]
  },
  {
   "cell_type": "markdown",
   "id": "376a8554",
   "metadata": {},
   "source": [
    "2)What is the average tip amount?"
   ]
  },
  {
   "cell_type": "code",
   "execution_count": 19,
   "id": "49790b95",
   "metadata": {},
   "outputs": [
    {
     "name": "stdout",
     "output_type": "stream",
     "text": [
      "2.99827868852459\n"
     ]
    }
   ],
   "source": [
    "print(df['tip'].mean())\n"
   ]
  },
  {
   "cell_type": "markdown",
   "id": "c1846f05",
   "metadata": {},
   "source": [
    "3)How many male and female customers are there in the dataset"
   ]
  },
  {
   "cell_type": "code",
   "execution_count": 22,
   "id": "0daa8b42",
   "metadata": {},
   "outputs": [
    {
     "name": "stdout",
     "output_type": "stream",
     "text": [
      "sex\n",
      "Male      157\n",
      "Female     87\n",
      "Name: count, dtype: int64\n"
     ]
    }
   ],
   "source": [
    "print(df['sex'].value_counts())"
   ]
  },
  {
   "cell_type": "markdown",
   "id": "c916df8c",
   "metadata": {},
   "source": [
    "4)Print the names of customers who left a tip greater than $10."
   ]
  },
  {
   "cell_type": "code",
   "execution_count": 26,
   "id": "3ac3d723",
   "metadata": {},
   "outputs": [
    {
     "name": "stdout",
     "output_type": "stream",
     "text": [
      "Empty DataFrame\n",
      "Columns: [total_bill, tip, sex, smoker, day, time, size]\n",
      "Index: []\n"
     ]
    }
   ],
   "source": [
    "print(df[df['tip'] > 10])\n",
    "\n",
    "\n",
    "#note:-name is column is missing in dataset\n"
   ]
  },
  {
   "cell_type": "markdown",
   "id": "651878b3",
   "metadata": {},
   "source": [
    "5)How many entries are there for each day of the week?"
   ]
  },
  {
   "cell_type": "code",
   "execution_count": 27,
   "id": "2b2cbcb6",
   "metadata": {},
   "outputs": [
    {
     "name": "stdout",
     "output_type": "stream",
     "text": [
      "day\n",
      "Sat     87\n",
      "Sun     76\n",
      "Thur    62\n",
      "Fri     19\n",
      "Name: count, dtype: int64\n"
     ]
    }
   ],
   "source": [
    "print(df['day'].value_counts())\n"
   ]
  },
  {
   "cell_type": "markdown",
   "id": "973f6801",
   "metadata": {},
   "source": [
    "6)Print the average total bill amount for each day of the week."
   ]
  },
  {
   "cell_type": "code",
   "execution_count": 28,
   "id": "a61a335a",
   "metadata": {},
   "outputs": [
    {
     "name": "stdout",
     "output_type": "stream",
     "text": [
      "day\n",
      "Fri     17.151579\n",
      "Sat     20.441379\n",
      "Sun     21.410000\n",
      "Thur    17.682742\n",
      "Name: total_bill, dtype: float64\n"
     ]
    }
   ],
   "source": [
    "print(df.groupby('day')['total_bill'].mean())\n"
   ]
  },
  {
   "cell_type": "markdown",
   "id": "f253bbc5",
   "metadata": {},
   "source": [
    "7)How many entries are there for lunch and dinner?"
   ]
  },
  {
   "cell_type": "code",
   "execution_count": 29,
   "id": "287ce50c",
   "metadata": {},
   "outputs": [
    {
     "name": "stdout",
     "output_type": "stream",
     "text": [
      "time\n",
      "Dinner    176\n",
      "Lunch      68\n",
      "Name: count, dtype: int64\n"
     ]
    }
   ],
   "source": [
    "print(df['time'].value_counts())\n"
   ]
  },
  {
   "cell_type": "markdown",
   "id": "3970e0ab",
   "metadata": {},
   "source": [
    "8)Print the names of customers who visited on Sunday."
   ]
  },
  {
   "cell_type": "code",
   "execution_count": 31,
   "id": "206e3e93",
   "metadata": {},
   "outputs": [
    {
     "name": "stdout",
     "output_type": "stream",
     "text": [
      "Empty DataFrame\n",
      "Columns: [total_bill, tip, sex, smoker, day, time, size]\n",
      "Index: []\n"
     ]
    }
   ],
   "source": [
    "print(df[df['day'] == 'Sunday'])\n",
    "\n",
    "#note:-name is column is missing in dataset\n"
   ]
  },
  {
   "cell_type": "markdown",
   "id": "c2f3f5bf",
   "metadata": {},
   "source": [
    "9)Plot the distribution of tip amounts."
   ]
  },
  {
   "cell_type": "code",
   "execution_count": 35,
   "id": "34d2e03f",
   "metadata": {},
   "outputs": [
    {
     "data": {
      "image/png": "[encoded data removed]",
      "text/plain": [
       "<Figure size 640x480 with 1 Axes>"
      ]
     },
     "metadata": {},
     "output_type": "display_data"
    }
   ],
   "source": [
    "import matplotlib.pyplot as plt\n",
    "plt.hist(df['tip'],)\n",
    "plt.xlabel('Tip Amount')\n",
    "plt.ylabel('Frequency')\n",
    "plt.show()\n"
   ]
  },
  {
   "cell_type": "markdown",
   "id": "2240d0a9",
   "metadata": {},
   "source": [
    "10)Plot the average tip amount by time of day."
   ]
  },
  {
   "cell_type": "code",
   "execution_count": 36,
   "id": "2c4f6a71",
   "metadata": {},
   "outputs": [
    {
     "data": {
      "image/png": "[encoded data removed]",
      "text/plain": [
       "<Figure size 640x480 with 1 Axes>"
      ]
     },
     "metadata": {},
     "output_type": "display_data"
    }
   ],
   "source": [
    "import seaborn as sns\n",
    "sns.barplot(x='time', y='tip', data=df)\n",
    "plt.show()\n"
   ]
  },
  {
   "cell_type": "markdown",
   "id": "308ba495",
   "metadata": {},
   "source": [
    "11)Calculate the percentage of total bill amount given as a tip for each entry."
   ]
  },
  {
   "cell_type": "code",
   "execution_count": 41,
   "id": "73dfcf68",
   "metadata": {},
   "outputs": [],
   "source": [
    "df['tip'] = (df['tip'] / df['total_bill']) * 100\n"
   ]
  },
  {
   "cell_type": "code",
   "execution_count": 42,
   "id": "06b6ba40",
   "metadata": {},
   "outputs": [
    {
     "data": {
      "text/plain": [
       "0       34.989249\n",
       "1      155.262656\n",
       "2       79.289548\n",
       "3       59.028887\n",
       "4       59.702174\n",
       "          ...    \n",
       "239     70.246976\n",
       "240     27.072670\n",
       "241     38.915889\n",
       "242     55.109015\n",
       "243     85.060921\n",
       "Name: tip, Length: 244, dtype: float64"
      ]
     },
     "execution_count": 42,
     "metadata": {},
     "output_type": "execute_result"
    }
   ],
   "source": [
    "df['tip']"
   ]
  },
  {
   "cell_type": "markdown",
   "id": "0219c486",
   "metadata": {},
   "source": [
    "12)Print the names of customers who gave the highest and lowest percentages of tips."
   ]
  },
  {
   "cell_type": "code",
   "execution_count": 43,
   "id": "85b2b3fa",
   "metadata": {},
   "outputs": [],
   "source": [
    "#note:-name is column is missing in dataset"
   ]
  },
  {
   "cell_type": "markdown",
   "id": "b724cdbd",
   "metadata": {},
   "source": [
    "13)Plot the distribution of total bill amounts by day of the week"
   ]
  },
  {
   "cell_type": "code",
   "execution_count": 44,
   "id": "07772d8d",
   "metadata": {},
   "outputs": [
    {
     "data": {
      "image/png": "[encoded data removed]",
      "text/plain": [
       "<Figure size 640x480 with 1 Axes>"
      ]
     },
     "metadata": {},
     "output_type": "display_data"
    }
   ],
   "source": [
    "sns.boxplot(x='day', y='total_bill', data=df)\n",
    "plt.show()\n"
   ]
  },
  {
   "cell_type": "markdown",
   "id": "ab45fa3b",
   "metadata": {},
   "source": [
    "14)Plot the average total bill amount by party size"
   ]
  },
  {
   "cell_type": "code",
   "execution_count": 46,
   "id": "50b546de",
   "metadata": {},
   "outputs": [
    {
     "data": {
      "image/png": "[encoded data removed]",
      "text/plain": [
       "<Figure size 640x480 with 1 Axes>"
      ]
     },
     "metadata": {},
     "output_type": "display_data"
    }
   ],
   "source": [
    "sns.barplot(y='total_bill', data=df)\n",
    "plt.show()\n",
    "\n",
    "##party size column not available"
   ]
  },
  {
   "cell_type": "markdown",
   "id": "264ddafe",
   "metadata": {},
   "source": [
    "15)Calculate the correlation between total bill amount and tip amount.\n"
   ]
  },
  {
   "cell_type": "code",
   "execution_count": 48,
   "id": "e901bf53",
   "metadata": {},
   "outputs": [
    {
     "name": "stdout",
     "output_type": "stream",
     "text": [
      "            total_bill       tip\n",
      "total_bill    1.000000 -0.540381\n",
      "tip          -0.540381  1.000000\n"
     ]
    }
   ],
   "source": [
    "print(df[['total_bill', 'tip']].corr())\n"
   ]
  },
  {
   "cell_type": "code",
   "execution_count": null,
   "id": "90574013",
   "metadata": {},
   "outputs": [],
   "source": []
  }
 ],
 "metadata": {
  "kernelspec": {
   "display_name": "Python 3 (ipykernel)",
   "language": "python",
   "name": "python3"
  },
  "language_info": {
   "codemirror_mode": {
    "name": "ipython",
    "version": 3
   },
   "file_extension": ".py",
   "mimetype": "text/x-python",
   "name": "python",
   "nbconvert_exporter": "python",
   "pygments_lexer": "ipython3",
   "version": "3.11.5"
  }
 },
 "nbformat": 4,
 "nbformat_minor": 5
}
